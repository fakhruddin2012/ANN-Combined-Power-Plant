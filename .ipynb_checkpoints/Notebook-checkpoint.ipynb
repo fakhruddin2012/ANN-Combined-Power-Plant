{
 "cells": [
  {
   "cell_type": "markdown",
   "metadata": {},
   "source": [
    "# Importing the libraries"
   ]
  },
  {
   "cell_type": "code",
   "execution_count": 1,
   "metadata": {},
   "outputs": [],
   "source": [
    "import pandas as pd\n",
    "import numpy as np\n",
    "import tensorflow as tf"
   ]
  },
  {
   "cell_type": "markdown",
   "metadata": {},
   "source": [
    "# Loading the dataset"
   ]
  },
  {
   "cell_type": "code",
   "execution_count": null,
   "metadata": {},
   "outputs": [],
   "source": [
    "dataset = pd.read_excel('Folds5x2_pp.xlsx')"
   ]
  },
  {
   "cell_type": "code",
   "execution_count": 4,
   "metadata": {},
   "outputs": [],
   "source": [
    "X = dataset.iloc[:, :-1].values\n",
    "y = dataset.iloc[:, -1].values"
   ]
  },
  {
   "cell_type": "markdown",
   "metadata": {},
   "source": [
    "# Splitting the dataset into the Training set and Test set"
   ]
  },
  {
   "cell_type": "code",
   "execution_count": 5,
   "metadata": {},
   "outputs": [],
   "source": [
    "from sklearn.model_selection import train_test_split\n",
    "X_train, X_test, y_train, y_test = train_test_split(X, y, test_size = 0.2, random_state = 0)"
   ]
  },
  {
   "cell_type": "markdown",
   "metadata": {},
   "source": [
    "# Building the ANN"
   ]
  },
  {
   "cell_type": "markdown",
   "metadata": {},
   "source": [
    "Initializing the ANN"
   ]
  },
  {
   "cell_type": "code",
   "execution_count": 6,
   "metadata": {},
   "outputs": [],
   "source": [
    "ann = tf.keras.models.Sequential()"
   ]
  },
  {
   "cell_type": "markdown",
   "metadata": {},
   "source": [
    "Adding the input layer and the first hidden layer"
   ]
  },
  {
   "cell_type": "code",
   "execution_count": 7,
   "metadata": {},
   "outputs": [],
   "source": [
    "ann.add(tf.keras.layers.Dense(units=6, activation='relu'))"
   ]
  },
  {
   "cell_type": "markdown",
   "metadata": {},
   "source": [
    "Adding the second hidden layer"
   ]
  },
  {
   "cell_type": "code",
   "execution_count": 8,
   "metadata": {},
   "outputs": [],
   "source": [
    "ann.add(tf.keras.layers.Dense(units=6, activation='relu'))"
   ]
  },
  {
   "cell_type": "markdown",
   "metadata": {},
   "source": [
    "Adding the output layer"
   ]
  },
  {
   "cell_type": "code",
   "execution_count": 9,
   "metadata": {},
   "outputs": [],
   "source": [
    "ann.add(tf.keras.layers.Dense(units=1))"
   ]
  },
  {
   "cell_type": "markdown",
   "metadata": {},
   "source": [
    "# Training the ANN"
   ]
  },
  {
   "cell_type": "markdown",
   "metadata": {},
   "source": [
    "Compiling the ANN"
   ]
  },
  {
   "cell_type": "code",
   "execution_count": 10,
   "metadata": {},
   "outputs": [],
   "source": [
    "ann.compile(optimizer = 'adam', loss = 'mean_squared_error')"
   ]
  },
  {
   "cell_type": "markdown",
   "metadata": {},
   "source": [
    "Training the ANN model on the Training set"
   ]
  },
  {
   "cell_type": "code",
   "execution_count": 11,
   "metadata": {
    "collapsed": true
   },
   "outputs": [
    {
     "name": "stdout",
     "output_type": "stream",
     "text": [
      "Epoch 1/100\n",
      "240/240 [==============================] - 0s 1ms/step - loss: 191613.6562\n",
      "Epoch 2/100\n",
      "240/240 [==============================] - 0s 1ms/step - loss: 6321.4517\n",
      "Epoch 3/100\n",
      "240/240 [==============================] - 0s 1ms/step - loss: 344.2463\n",
      "Epoch 4/100\n",
      "240/240 [==============================] - 0s 1ms/step - loss: 337.7711\n",
      "Epoch 5/100\n",
      "240/240 [==============================] - 0s 1ms/step - loss: 330.0567\n",
      "Epoch 6/100\n",
      "240/240 [==============================] - 0s 1ms/step - loss: 320.9199\n",
      "Epoch 7/100\n",
      "240/240 [==============================] - 0s 1ms/step - loss: 310.8701\n",
      "Epoch 8/100\n",
      "240/240 [==============================] - 0s 1ms/step - loss: 299.6386\n",
      "Epoch 9/100\n",
      "240/240 [==============================] - 0s 1ms/step - loss: 287.4073\n",
      "Epoch 10/100\n",
      "240/240 [==============================] - 0s 1ms/step - loss: 274.0277\n",
      "Epoch 11/100\n",
      "240/240 [==============================] - 0s 1ms/step - loss: 259.9325\n",
      "Epoch 12/100\n",
      "240/240 [==============================] - 0s 1ms/step - loss: 244.8023\n",
      "Epoch 13/100\n",
      "240/240 [==============================] - 0s 1ms/step - loss: 228.8589\n",
      "Epoch 14/100\n",
      "240/240 [==============================] - 0s 1ms/step - loss: 212.8883\n",
      "Epoch 15/100\n",
      "240/240 [==============================] - 0s 1ms/step - loss: 196.2317\n",
      "Epoch 16/100\n",
      "240/240 [==============================] - 0s 1ms/step - loss: 179.6564\n",
      "Epoch 17/100\n",
      "240/240 [==============================] - 0s 1ms/step - loss: 163.2207\n",
      "Epoch 18/100\n",
      "240/240 [==============================] - 0s 1ms/step - loss: 147.3763\n",
      "Epoch 19/100\n",
      "240/240 [==============================] - 0s 1ms/step - loss: 131.8276\n",
      "Epoch 20/100\n",
      "240/240 [==============================] - 1s 2ms/step - loss: 117.0059\n",
      "Epoch 21/100\n",
      "240/240 [==============================] - 0s 2ms/step - loss: 103.6741\n",
      "Epoch 22/100\n",
      "240/240 [==============================] - 0s 1ms/step - loss: 92.0313\n",
      "Epoch 23/100\n",
      "240/240 [==============================] - 0s 2ms/step - loss: 81.3859\n",
      "Epoch 24/100\n",
      "240/240 [==============================] - 1s 2ms/step - loss: 72.0666\n",
      "Epoch 25/100\n",
      "240/240 [==============================] - 0s 1ms/step - loss: 64.5267\n",
      "Epoch 26/100\n",
      "240/240 [==============================] - 0s 1ms/step - loss: 58.5846\n",
      "Epoch 27/100\n",
      "240/240 [==============================] - 0s 2ms/step - loss: 53.0270\n",
      "Epoch 28/100\n",
      "240/240 [==============================] - 0s 2ms/step - loss: 48.6932\n",
      "Epoch 29/100\n",
      "240/240 [==============================] - 1s 3ms/step - loss: 45.0072\n",
      "Epoch 30/100\n",
      "240/240 [==============================] - 0s 2ms/step - loss: 41.9098\n",
      "Epoch 31/100\n",
      "240/240 [==============================] - 0s 1ms/step - loss: 39.3912\n",
      "Epoch 32/100\n",
      "240/240 [==============================] - 0s 1ms/step - loss: 37.2409\n",
      "Epoch 33/100\n",
      "240/240 [==============================] - 0s 1ms/step - loss: 35.9033\n",
      "Epoch 34/100\n",
      "240/240 [==============================] - 0s 1ms/step - loss: 34.8025\n",
      "Epoch 35/100\n",
      "240/240 [==============================] - 0s 1ms/step - loss: 33.4896\n",
      "Epoch 36/100\n",
      "240/240 [==============================] - 0s 1ms/step - loss: 32.7231\n",
      "Epoch 37/100\n",
      "240/240 [==============================] - 1s 2ms/step - loss: 31.4161\n",
      "Epoch 38/100\n",
      "240/240 [==============================] - 0s 2ms/step - loss: 31.1841\n",
      "Epoch 39/100\n",
      "240/240 [==============================] - 0s 2ms/step - loss: 30.7358\n",
      "Epoch 40/100\n",
      "240/240 [==============================] - 0s 1ms/step - loss: 30.3714\n",
      "Epoch 41/100\n",
      "240/240 [==============================] - 0s 1ms/step - loss: 29.8573\n",
      "Epoch 42/100\n",
      "240/240 [==============================] - 0s 1ms/step - loss: 29.6619\n",
      "Epoch 43/100\n",
      "240/240 [==============================] - 0s 1ms/step - loss: 29.2942\n",
      "Epoch 44/100\n",
      "240/240 [==============================] - 0s 1ms/step - loss: 28.8238\n",
      "Epoch 45/100\n",
      "240/240 [==============================] - 0s 1ms/step - loss: 28.5378\n",
      "Epoch 46/100\n",
      "240/240 [==============================] - 0s 1ms/step - loss: 28.7105\n",
      "Epoch 47/100\n",
      "240/240 [==============================] - 0s 1ms/step - loss: 28.4799\n",
      "Epoch 48/100\n",
      "240/240 [==============================] - 0s 1ms/step - loss: 28.3659\n",
      "Epoch 49/100\n",
      "240/240 [==============================] - 1s 3ms/step - loss: 27.7007\n",
      "Epoch 50/100\n",
      "240/240 [==============================] - 0s 2ms/step - loss: 27.6000\n",
      "Epoch 51/100\n",
      "240/240 [==============================] - 0s 1ms/step - loss: 27.6808\n",
      "Epoch 52/100\n",
      "240/240 [==============================] - 0s 1ms/step - loss: 27.4460\n",
      "Epoch 53/100\n",
      "240/240 [==============================] - 0s 1ms/step - loss: 27.6145\n",
      "Epoch 54/100\n",
      "240/240 [==============================] - 0s 1ms/step - loss: 27.4921\n",
      "Epoch 55/100\n",
      "240/240 [==============================] - 1s 3ms/step - loss: 27.3362\n",
      "Epoch 56/100\n",
      "240/240 [==============================] - 0s 2ms/step - loss: 27.6030\n",
      "Epoch 57/100\n",
      "240/240 [==============================] - 0s 1ms/step - loss: 27.0005\n",
      "Epoch 58/100\n",
      "240/240 [==============================] - 0s 1ms/step - loss: 27.6253\n",
      "Epoch 59/100\n",
      "240/240 [==============================] - 0s 1ms/step - loss: 27.2882\n",
      "Epoch 60/100\n",
      "240/240 [==============================] - 0s 2ms/step - loss: 26.8379\n",
      "Epoch 61/100\n",
      "240/240 [==============================] - 0s 1ms/step - loss: 27.7812\n",
      "Epoch 62/100\n",
      "240/240 [==============================] - 0s 1ms/step - loss: 26.6626\n",
      "Epoch 63/100\n",
      "240/240 [==============================] - 0s 1ms/step - loss: 26.9191\n",
      "Epoch 64/100\n",
      "240/240 [==============================] - 0s 1ms/step - loss: 26.5663\n",
      "Epoch 65/100\n",
      "240/240 [==============================] - 0s 2ms/step - loss: 26.6436\n",
      "Epoch 66/100\n",
      "240/240 [==============================] - 0s 2ms/step - loss: 26.9573\n",
      "Epoch 67/100\n",
      "240/240 [==============================] - 0s 2ms/step - loss: 26.5482\n",
      "Epoch 68/100\n",
      "240/240 [==============================] - 0s 2ms/step - loss: 26.8018\n",
      "Epoch 69/100\n",
      "240/240 [==============================] - 0s 2ms/step - loss: 26.2520\n",
      "Epoch 70/100\n",
      "240/240 [==============================] - 0s 2ms/step - loss: 26.2445\n",
      "Epoch 71/100\n",
      "240/240 [==============================] - 0s 2ms/step - loss: 26.2575\n",
      "Epoch 72/100\n",
      "240/240 [==============================] - 0s 2ms/step - loss: 26.8426\n",
      "Epoch 73/100\n",
      "240/240 [==============================] - 0s 1ms/step - loss: 26.4556\n",
      "Epoch 74/100\n",
      "240/240 [==============================] - 0s 1ms/step - loss: 26.7833\n",
      "Epoch 75/100\n",
      "240/240 [==============================] - 0s 1ms/step - loss: 26.5798\n",
      "Epoch 76/100\n",
      "240/240 [==============================] - 0s 1ms/step - loss: 26.3741\n",
      "Epoch 77/100\n",
      "240/240 [==============================] - 0s 1ms/step - loss: 26.8812\n",
      "Epoch 78/100\n",
      "240/240 [==============================] - 0s 2ms/step - loss: 26.9738\n",
      "Epoch 79/100\n",
      "240/240 [==============================] - 1s 3ms/step - loss: 26.5350\n",
      "Epoch 80/100\n",
      "240/240 [==============================] - 1s 3ms/step - loss: 26.9982\n",
      "Epoch 81/100\n",
      "240/240 [==============================] - 0s 2ms/step - loss: 26.5328\n",
      "Epoch 82/100\n",
      "240/240 [==============================] - 1s 3ms/step - loss: 26.3141\n",
      "Epoch 83/100\n",
      "240/240 [==============================] - 1s 3ms/step - loss: 26.3258\n",
      "Epoch 84/100\n",
      "240/240 [==============================] - 1s 3ms/step - loss: 26.6604\n",
      "Epoch 85/100\n",
      "240/240 [==============================] - 0s 1ms/step - loss: 26.4040\n",
      "Epoch 86/100\n",
      "240/240 [==============================] - 0s 1ms/step - loss: 26.8420\n",
      "Epoch 87/100\n",
      "240/240 [==============================] - 0s 2ms/step - loss: 26.7836\n",
      "Epoch 88/100\n",
      "240/240 [==============================] - 0s 2ms/step - loss: 26.2350\n",
      "Epoch 89/100\n",
      "240/240 [==============================] - 0s 1ms/step - loss: 27.0247\n",
      "Epoch 90/100\n",
      "240/240 [==============================] - 0s 1ms/step - loss: 26.5616\n",
      "Epoch 91/100\n",
      "240/240 [==============================] - 0s 1ms/step - loss: 26.4586\n",
      "Epoch 92/100\n",
      "240/240 [==============================] - 0s 1ms/step - loss: 26.2425\n",
      "Epoch 93/100\n",
      "240/240 [==============================] - 0s 1ms/step - loss: 26.3438\n",
      "Epoch 94/100\n",
      "240/240 [==============================] - 0s 1ms/step - loss: 26.6260\n",
      "Epoch 95/100\n",
      "240/240 [==============================] - 0s 1ms/step - loss: 26.8705\n",
      "Epoch 96/100\n",
      "240/240 [==============================] - 0s 1ms/step - loss: 26.4358\n",
      "Epoch 97/100\n",
      "240/240 [==============================] - 0s 1ms/step - loss: 26.8945\n",
      "Epoch 98/100\n"
     ]
    },
    {
     "name": "stdout",
     "output_type": "stream",
     "text": [
      "240/240 [==============================] - 0s 1ms/step - loss: 26.8264\n",
      "Epoch 99/100\n",
      "240/240 [==============================] - 0s 1ms/step - loss: 26.4887\n",
      "Epoch 100/100\n",
      "240/240 [==============================] - 0s 1ms/step - loss: 26.8119\n"
     ]
    },
    {
     "data": {
      "text/plain": [
       "<tensorflow.python.keras.callbacks.History at 0x16078af74e0>"
      ]
     },
     "execution_count": 11,
     "metadata": {},
     "output_type": "execute_result"
    }
   ],
   "source": [
    "ann.fit(X_train, y_train, batch_size = 32, epochs = 100)"
   ]
  },
  {
   "cell_type": "markdown",
   "metadata": {},
   "source": [
    "# Predicting the results of the Test set"
   ]
  },
  {
   "cell_type": "code",
   "execution_count": 12,
   "metadata": {},
   "outputs": [
    {
     "name": "stdout",
     "output_type": "stream",
     "text": [
      "[[430.71 431.23]\n",
      " [461.75 460.01]\n",
      " [465.25 461.14]\n",
      " ...\n",
      " [472.45 473.26]\n",
      " [439.37 438.  ]\n",
      " [458.52 463.28]]\n"
     ]
    }
   ],
   "source": [
    "y_pred = ann.predict(X_test)\n",
    "np.set_printoptions(precision=2)\n",
    "print(np.concatenate((y_pred.reshape(len(y_pred),1), y_test.reshape(len(y_test),1)),1))"
   ]
  },
  {
   "cell_type": "code",
   "execution_count": null,
   "metadata": {},
   "outputs": [],
   "source": []
  }
 ],
 "metadata": {
  "kernelspec": {
   "display_name": "Python 3",
   "language": "python",
   "name": "python3"
  },
  "language_info": {
   "codemirror_mode": {
    "name": "ipython",
    "version": 3
   },
   "file_extension": ".py",
   "mimetype": "text/x-python",
   "name": "python",
   "nbconvert_exporter": "python",
   "pygments_lexer": "ipython3",
   "version": "3.7.3"
  }
 },
 "nbformat": 4,
 "nbformat_minor": 2
}
